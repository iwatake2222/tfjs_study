{
  "nbformat": 4,
  "nbformat_minor": 0,
  "metadata": {
    "colab": {
      "name": "CreateMnistModel_tfjs.ipynb",
      "provenance": [],
      "collapsed_sections": [],
      "authorship_tag": "ABX9TyM2I4QSPbpHo83beTbp0vNo",
      "include_colab_link": true
    },
    "kernelspec": {
      "name": "python3",
      "display_name": "Python 3"
    },
    "accelerator": "GPU"
  },
  "cells": [
    {
      "cell_type": "markdown",
      "metadata": {
        "id": "view-in-github",
        "colab_type": "text"
      },
      "source": [
        "<a href=\"https://colab.research.google.com/github/iwatake2222/tfjs_study/blob/master/mnist/CreateMnistModel_tfjs.ipynb\" target=\"_parent\"><img src=\"https://colab.research.google.com/assets/colab-badge.svg\" alt=\"Open In Colab\"/></a>"
      ]
    },
    {
      "cell_type": "markdown",
      "metadata": {
        "id": "L4yQJobaQTz3",
        "colab_type": "text"
      },
      "source": [
        "# KerasでMNIST数字識別モデルを作り、TensorFlow.jsモデルに変換する\n"
      ]
    },
    {
      "cell_type": "markdown",
      "metadata": {
        "id": "mq2H_I-GK7_c",
        "colab_type": "text"
      },
      "source": [
        "## Kerasモデル作成、学習、h5モデル保存"
      ]
    },
    {
      "cell_type": "code",
      "metadata": {
        "id": "nTW4uDW_Os6R",
        "colab_type": "code",
        "outputId": "5a791821-1756-4f89-d02d-a1d1d4ed5fb0",
        "colab": {
          "base_uri": "https://localhost:8080/",
          "height": 1000
        }
      },
      "source": [
        "%tensorflow_version 1.x\n",
        "from __future__ import absolute_import, division, print_function, unicode_literals\n",
        "import tensorflow as tf\n",
        "import numpy as np\n",
        "\n",
        "print(tf.__version__)\n",
        "\n",
        "# MNISTの学習用データ、テストデータをロードする\n",
        "(x_train, y_train), (x_test, y_test) = tf.keras.datasets.mnist.load_data()\n",
        "\n",
        "# 学習データの前処理\n",
        "# X: 6000x28x28x1のTensorに変換し、値を0～1.0に正規化\n",
        "x_train = x_train.reshape(x_train.shape[0], x_train.shape[1], x_train.shape[2], 1)\n",
        "x_test = x_test.reshape(x_test.shape[0], x_test.shape[1], x_test.shape[2], 1)\n",
        "x_train = x_train / 255.\n",
        "x_test = x_test / 255.\n",
        "x_train = x_train.astype(np.float32)\n",
        "x_test = x_test.astype(np.float32)\n",
        "\n",
        "# Convolutionモデルの作成\n",
        "input = tf.keras.layers.Input(shape=(28,28,1), name=\"input_image\")\n",
        "conv1 = tf.keras.layers.Conv2D(\n",
        "  filters=8,\n",
        "  kernel_size=(3,3),\n",
        "  strides=(1,1),\n",
        "  padding=\"same\",\n",
        "  activation=\"relu\"\n",
        ")(input)\n",
        "pool1 = tf.keras.layers.MaxPooling2D(pool_size=(2,2))(conv1)\n",
        "conv2 = tf.keras.layers.Conv2D(\n",
        "  filters=4,\n",
        "  kernel_size=(3,3),\n",
        "  strides=(1,1),\n",
        "  padding=\"same\",\n",
        "  activation=\"relu\"\n",
        ")(pool1)\n",
        "dropout1 = tf.keras.layers.Dropout(0.2)(conv2)\n",
        "flatten1 = tf.keras.layers.Flatten()(dropout1)\n",
        "output = tf.keras.layers.Dense(units=10, activation=\"softmax\", name=\"output_scores\")(flatten1)\n",
        "model = tf.keras.models.Model(inputs=[input], outputs=[output], name=\"ConvMnist\")\n",
        "model.summary()\n",
        "\n",
        "model.compile(\n",
        "  optimizer=tf.keras.optimizers.Adam(),\n",
        "  loss=tf.keras.losses.SparseCategoricalCrossentropy(),\n",
        "  metrics=[tf.keras.metrics.SparseCategoricalAccuracy()]\n",
        ")\n",
        "\n",
        "# Convolutionモデルの学習\n",
        "model.fit(\n",
        "  x_train,\n",
        "  y_train,\n",
        "  batch_size=32,\n",
        "  epochs=20,\n",
        "  validation_split=0.2,\n",
        ")\n",
        "\n",
        "# 学習したモデルを使用して、テスト用データで評価する\n",
        "model.evaluate(x_test,  y_test, verbose=2)\n",
        "\n",
        "# 学習済みモデルをファイル(h5)に保存する\n",
        "model.save(\"conv_mnist.h5\")"
      ],
      "execution_count": 0,
      "outputs": [
        {
          "output_type": "stream",
          "text": [
            "1.15.0\n",
            "Downloading data from https://storage.googleapis.com/tensorflow/tf-keras-datasets/mnist.npz\n",
            "11493376/11490434 [==============================] - 0s 0us/step\n",
            "WARNING:tensorflow:From /usr/local/lib/python3.6/dist-packages/tensorflow_core/python/ops/resource_variable_ops.py:1630: calling BaseResourceVariable.__init__ (from tensorflow.python.ops.resource_variable_ops) with constraint is deprecated and will be removed in a future version.\n",
            "Instructions for updating:\n",
            "If using Keras pass *_constraint arguments to layers.\n",
            "Model: \"ConvMnist\"\n",
            "_________________________________________________________________\n",
            "Layer (type)                 Output Shape              Param #   \n",
            "=================================================================\n",
            "input_image (InputLayer)     [(None, 28, 28, 1)]       0         \n",
            "_________________________________________________________________\n",
            "conv2d (Conv2D)              (None, 28, 28, 8)         80        \n",
            "_________________________________________________________________\n",
            "max_pooling2d (MaxPooling2D) (None, 14, 14, 8)         0         \n",
            "_________________________________________________________________\n",
            "conv2d_1 (Conv2D)            (None, 14, 14, 4)         292       \n",
            "_________________________________________________________________\n",
            "dropout (Dropout)            (None, 14, 14, 4)         0         \n",
            "_________________________________________________________________\n",
            "flatten (Flatten)            (None, 784)               0         \n",
            "_________________________________________________________________\n",
            "output_scores (Dense)        (None, 10)                7850      \n",
            "=================================================================\n",
            "Total params: 8,222\n",
            "Trainable params: 8,222\n",
            "Non-trainable params: 0\n",
            "_________________________________________________________________\n",
            "Train on 48000 samples, validate on 12000 samples\n",
            "Epoch 1/20\n",
            "48000/48000 [==============================] - 12s 245us/sample - loss: 0.3678 - sparse_categorical_accuracy: 0.8893 - val_loss: 0.1507 - val_sparse_categorical_accuracy: 0.9558\n",
            "Epoch 2/20\n",
            "48000/48000 [==============================] - 5s 95us/sample - loss: 0.1667 - sparse_categorical_accuracy: 0.9499 - val_loss: 0.1084 - val_sparse_categorical_accuracy: 0.9689\n",
            "Epoch 3/20\n",
            "48000/48000 [==============================] - 5s 94us/sample - loss: 0.1298 - sparse_categorical_accuracy: 0.9617 - val_loss: 0.0939 - val_sparse_categorical_accuracy: 0.9726\n",
            "Epoch 4/20\n",
            "48000/48000 [==============================] - 4s 93us/sample - loss: 0.1108 - sparse_categorical_accuracy: 0.9654 - val_loss: 0.0782 - val_sparse_categorical_accuracy: 0.9774\n",
            "Epoch 5/20\n",
            "48000/48000 [==============================] - 5s 94us/sample - loss: 0.0961 - sparse_categorical_accuracy: 0.9688 - val_loss: 0.0751 - val_sparse_categorical_accuracy: 0.9778\n",
            "Epoch 6/20\n",
            "48000/48000 [==============================] - 5s 96us/sample - loss: 0.0887 - sparse_categorical_accuracy: 0.9720 - val_loss: 0.0746 - val_sparse_categorical_accuracy: 0.9762\n",
            "Epoch 7/20\n",
            "48000/48000 [==============================] - 5s 94us/sample - loss: 0.0842 - sparse_categorical_accuracy: 0.9740 - val_loss: 0.0668 - val_sparse_categorical_accuracy: 0.9793\n",
            "Epoch 8/20\n",
            "48000/48000 [==============================] - 4s 94us/sample - loss: 0.0783 - sparse_categorical_accuracy: 0.9760 - val_loss: 0.0659 - val_sparse_categorical_accuracy: 0.9804\n",
            "Epoch 9/20\n",
            "48000/48000 [==============================] - 5s 94us/sample - loss: 0.0751 - sparse_categorical_accuracy: 0.9757 - val_loss: 0.0645 - val_sparse_categorical_accuracy: 0.9804\n",
            "Epoch 10/20\n",
            "48000/48000 [==============================] - 5s 97us/sample - loss: 0.0704 - sparse_categorical_accuracy: 0.9779 - val_loss: 0.0630 - val_sparse_categorical_accuracy: 0.9805\n",
            "Epoch 11/20\n",
            "48000/48000 [==============================] - 5s 96us/sample - loss: 0.0690 - sparse_categorical_accuracy: 0.9782 - val_loss: 0.0593 - val_sparse_categorical_accuracy: 0.9818\n",
            "Epoch 12/20\n",
            "48000/48000 [==============================] - 4s 92us/sample - loss: 0.0680 - sparse_categorical_accuracy: 0.9781 - val_loss: 0.0597 - val_sparse_categorical_accuracy: 0.9819\n",
            "Epoch 13/20\n",
            "48000/48000 [==============================] - 5s 94us/sample - loss: 0.0645 - sparse_categorical_accuracy: 0.9794 - val_loss: 0.0604 - val_sparse_categorical_accuracy: 0.9826\n",
            "Epoch 14/20\n",
            "48000/48000 [==============================] - 5s 95us/sample - loss: 0.0634 - sparse_categorical_accuracy: 0.9800 - val_loss: 0.0594 - val_sparse_categorical_accuracy: 0.9826\n",
            "Epoch 15/20\n",
            "48000/48000 [==============================] - 4s 93us/sample - loss: 0.0613 - sparse_categorical_accuracy: 0.9801 - val_loss: 0.0589 - val_sparse_categorical_accuracy: 0.9835\n",
            "Epoch 16/20\n",
            "48000/48000 [==============================] - 5s 96us/sample - loss: 0.0593 - sparse_categorical_accuracy: 0.9814 - val_loss: 0.0592 - val_sparse_categorical_accuracy: 0.9825\n",
            "Epoch 17/20\n",
            "48000/48000 [==============================] - 5s 95us/sample - loss: 0.0582 - sparse_categorical_accuracy: 0.9810 - val_loss: 0.0619 - val_sparse_categorical_accuracy: 0.9822\n",
            "Epoch 18/20\n",
            "48000/48000 [==============================] - 5s 100us/sample - loss: 0.0548 - sparse_categorical_accuracy: 0.9827 - val_loss: 0.0591 - val_sparse_categorical_accuracy: 0.9832\n",
            "Epoch 19/20\n",
            "48000/48000 [==============================] - 5s 99us/sample - loss: 0.0558 - sparse_categorical_accuracy: 0.9821 - val_loss: 0.0581 - val_sparse_categorical_accuracy: 0.9839\n",
            "Epoch 20/20\n",
            "48000/48000 [==============================] - 5s 94us/sample - loss: 0.0548 - sparse_categorical_accuracy: 0.9828 - val_loss: 0.0591 - val_sparse_categorical_accuracy: 0.9820\n",
            "10000/10000 - 0s - loss: 0.0550 - sparse_categorical_accuracy: 0.9826\n"
          ],
          "name": "stdout"
        }
      ]
    },
    {
      "cell_type": "markdown",
      "metadata": {
        "id": "zubyBPg5LCQc",
        "colab_type": "text"
      },
      "source": [
        "## Kerasモデル(h5)をTensorFlow.jsモデルに変換して、ローカルにダウンロード"
      ]
    },
    {
      "cell_type": "code",
      "metadata": {
        "id": "x5UEfiAxKxUw",
        "colab_type": "code",
        "colab": {}
      },
      "source": [
        "!pip install tensorflowjs"
      ],
      "execution_count": 0,
      "outputs": []
    },
    {
      "cell_type": "code",
      "metadata": {
        "id": "4QM7Li7uL9Xz",
        "colab_type": "code",
        "outputId": "681e7e3a-ef83-4d34-b537-c9809adc9fa0",
        "colab": {
          "base_uri": "https://localhost:8080/",
          "height": 69
        }
      },
      "source": [
        "!mkdir conv_mnist_tfjs\n",
        "!tensorflowjs_converter --input_format keras \\\n",
        "                       conv_mnist.h5 \\\n",
        "                       ./conv_mnist_tfjs\n",
        "!tar zcvf conv_mnist_tfjs.tar.gz conv_mnist_tfjs\n",
        "\n",
        "# Download to local\n",
        "from google.colab import files\n",
        "files.download(\"./conv_mnist_tfjs.tar.gz\")\n",
        "files.download( \"./conv_mnist.h5\")"
      ],
      "execution_count": 0,
      "outputs": [
        {
          "output_type": "stream",
          "text": [
            "conv_mnist_tfjs/\n",
            "conv_mnist_tfjs/group1-shard1of1.bin\n",
            "conv_mnist_tfjs/model.json\n"
          ],
          "name": "stdout"
        }
      ]
    }
  ]
}